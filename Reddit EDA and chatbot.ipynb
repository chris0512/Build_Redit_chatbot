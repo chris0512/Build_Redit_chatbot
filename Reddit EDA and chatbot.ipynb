{
 "cells":[
  {
   "cell_type":"code",
   "source":[
    "import pandas as pd\n",
    "import datetime as dt \n",
    "\n",
    "# Visulization libraries\n",
    "from wordcloud import WordCloud\n",
    "import matplotlib.pyplot as plt \n",
    "import seaborn as sns\n",
    "\n",
    "# Transformer model\n",
    "from transformers import pipeline"
   ],
   "execution_count":1,
   "outputs":[
    
   ],
   "metadata":{
    "datalore":{
     "node_id":"QxZm6v3AnA1P1L7SahH0IU",
     "type":"CODE",
     "hide_input_from_viewers":false,
     "hide_output_from_viewers":false,
     "report_properties":{
      "rowId":"kmAIRuMkEdkAn2OiHI0msD"
     }
    }
   }
  },
  {
   "cell_type":"code",
   "source":[
    "posts_df = pd.read_csv('DS_ML_AI_posts.csv')\n",
    "comments_df = pd.read_csv('DS_ML_AI_comments.csv')"
   ],
   "execution_count":2,
   "outputs":[
    
   ],
   "metadata":{
    "datalore":{
     "node_id":"7EQmtmeGy6IxfeK85tvuZz",
     "type":"CODE",
     "hide_input_from_viewers":false,
     "hide_output_from_viewers":false,
     "report_properties":{
      "rowId":"4wOMUy8cBKbqBfjiZrPkPV"
     }
    }
   }
  },
  {
   "cell_type":"code",
   "source":[
    "posts_df['created_date'] = posts_df['created_utc'].apply(lambda x: dt.datetime.fromtimestamp(x))\n",
    "\n",
    "posts_df['created_year'] = posts_df['created_date'].dt.year\n",
    "posts_df"
   ],
   "execution_count":3,
   "outputs":[
    
   ],
   "metadata":{
    "datalore":{
     "node_id":"RfoEK4YlddOC0hXhwE9Sjj",
     "type":"CODE",
     "hide_input_from_viewers":false,
     "hide_output_from_viewers":false,
     "report_properties":{
      "rowId":"IM8K4Vw3JNEmLMcc92rkJk"
     }
    }
   }
  },
  {
   "cell_type":"code",
   "source":[
    "comments_df"
   ],
   "execution_count":4,
   "outputs":[
    
   ],
   "metadata":{
    "datalore":{
     "node_id":"y44NFs7Ac4aUbwEQH7lr3r",
     "type":"CODE",
     "hide_input_from_viewers":false,
     "hide_output_from_viewers":false,
     "report_properties":{
      "rowId":"mw7LViqtxy5oyXFw0y5XBK"
     }
    }
   }
  },
  {
   "cell_type":"code",
   "source":[
    "# Merge posts wiith their comments\n",
    "comments_posts_df = posts_df.merge(comments_df, on='post_id', how='left')\n",
    "\n",
    "comments_posts_df"
   ],
   "execution_count":5,
   "outputs":[
    
   ],
   "metadata":{
    "datalore":{
     "node_id":"3K84FTBFwklRcwmrYfHVAo",
     "type":"CODE",
     "hide_input_from_viewers":false,
     "hide_output_from_viewers":false,
     "report_properties":{
      "rowId":"jXOfimjxRlBZbdl1GMjgsj"
     }
    }
   }
  },
  {
   "cell_type":"code",
   "source":[
    "# Remove rows with missing comments\n",
    "comments_posts_df = comments_posts_df[~comments_posts_df['comment'].isnull()]"
   ],
   "execution_count":6,
   "outputs":[
    
   ],
   "metadata":{
    "datalore":{
     "node_id":"Znc4cJG4qBEXyvtheVUMA7",
     "type":"CODE",
     "hide_input_from_viewers":false,
     "hide_output_from_viewers":false,
     "report_properties":{
      "rowId":"e0eUwHhyjfBu6ZY6a6NGPW"
     }
    }
   }
  },
  {
   "cell_type":"markdown",
   "source":[
    "### EDA"
   ],
   "attachments":{
    
   },
   "metadata":{
    "datalore":{
     "node_id":"hmffaEuysz8AYiJCKnwtrt",
     "type":"MD",
     "hide_input_from_viewers":false,
     "hide_output_from_viewers":false,
     "report_properties":{
      "rowId":"gw8m6BHrir0e3awakY8rZN"
     }
    }
   }
  },
  {
   "cell_type":"code",
   "source":[
    "posts_df"
   ],
   "execution_count":7,
   "outputs":[
    
   ],
   "metadata":{
    "datalore":{
     "node_id":"dagEo7UTt5aq7mpUniEwG6",
     "type":"CODE",
     "hide_input_from_viewers":false,
     "hide_output_from_viewers":false,
     "report_properties":{
      "rowId":"xOqYqFVSSRJ9zGpahhK8EG"
     }
    }
   }
  },
  {
   "cell_type":"markdown",
   "source":[
    "### Wordcloud post titles"
   ],
   "attachments":{
    
   },
   "metadata":{
    "datalore":{
     "node_id":"H9bZko5FMSDPBISlCpKYeL",
     "type":"MD",
     "hide_input_from_viewers":false,
     "hide_output_from_viewers":false,
     "report_properties":{
      "rowId":"pBRm4NP6Xu4a7uo3EEG7Q2"
     }
    }
   }
  },
  {
   "cell_type":"code",
   "source":[
    "post_title_text = ''.join([title for title in posts_df['post_title'].str.lower()])\n",
    "\n",
    "word_cloud = WordCloud(\n",
    "    collocation_threshold=2,\n",
    "    width=1000,\n",
    "    height=500,\n",
    "    background_color='white'\n",
    ").generate(post_title_text)\n",
    "\n",
    "# Display the generated Word Cloud\n",
    "plt.figure(figsize=(10, 5))\n",
    "plt.imshow(word_cloud)\n",
    "plt.axis('off')\n",
    "plt.show()"
   ],
   "execution_count":8,
   "outputs":[
    
   ],
   "metadata":{
    "datalore":{
     "node_id":"n9WQITlyof77mw4DtPe2iH",
     "type":"CODE",
     "hide_input_from_viewers":false,
     "hide_output_from_viewers":false,
     "report_properties":{
      "rowId":"ZMvBG39inRpcmTjmyWhITK"
     }
    }
   }
  },
  {
   "cell_type":"markdown",
   "source":[
    "### Wordcloud post titles by year"
   ],
   "attachments":{
    
   },
   "metadata":{
    "datalore":{
     "node_id":"Xd2AU2dszCbMjdo5TokszK",
     "type":"MD",
     "hide_input_from_viewers":false,
     "hide_output_from_viewers":false,
     "report_properties":{
      "rowId":"blSXTkCTTVU1DCzCH9TFwx"
     }
    }
   }
  },
  {
   "cell_type":"code",
   "source":[
    "selected_year = 2023"
   ],
   "execution_count":9,
   "outputs":[
    
   ],
   "metadata":{
    "datalore":{
     "node_id":"quVBQ7i4rsNAN5MOF7Mk0F",
     "type":"CONTROL",
     "hide_input_from_viewers":false,
     "hide_output_from_viewers":false,
     "report_properties":{
      "rowId":"PCMIKJrtOSOju5nEadXSbI"
     },
     "controls_state":[
      {
       "type":"SLIDER",
       "label":"Select year",
       "variable":"selected_year",
       "value":"2023",
       "min":"2014",
       "max":"2023",
       "step":"1",
       "minExpression":"2014",
       "maxExpression":"2023",
       "stepExpression":"1"
      }
     ]
    }
   }
  },
  {
   "cell_type":"code",
   "source":[
    "posts_in_year = posts_df[posts_df['created_year'] == selected_year]\n",
    "post_title_text_year = ''.join(item for item in posts_in_year[~posts_in_year['post_title'].isna()]['post_title'])\n",
    "\n",
    "word_cloud = WordCloud(collocation_threshold=2, width=1000, height=500, background_color='white').generate(post_title_text_year)\n",
    "\n",
    "plt.figure(figsize=(10, 5))\n",
    "plt.imshow(word_cloud)\n",
    "plt.axis(\"off\")\n",
    "plt.show()"
   ],
   "execution_count":10,
   "outputs":[
    
   ],
   "metadata":{
    "datalore":{
     "node_id":"rR8yzTdutcWDEF0GdLFeqi",
     "type":"CODE",
     "hide_input_from_viewers":false,
     "hide_output_from_viewers":false,
     "report_properties":{
      "rowId":"O64VXUKM64gwiZZDlj5cwM"
     }
    }
   }
  },
  {
   "cell_type":"markdown",
   "source":[
    "### Sentiment analysis"
   ],
   "attachments":{
    
   },
   "metadata":{
    "datalore":{
     "node_id":"YxQhXF3C13cvvBtpMRHiap",
     "type":"MD",
     "hide_input_from_viewers":false,
     "hide_output_from_viewers":false,
     "report_properties":{
      "rowId":"JaTW6P07RLbxgtf2mwfwe4"
     }
    }
   }
  },
  {
   "cell_type":"code",
   "source":[
    "sentiment_classifier = pipeline(model=\"finiteautomata\/bertweet-base-sentiment-analysis\")"
   ],
   "execution_count":11,
   "outputs":[
    
   ],
   "metadata":{
    "datalore":{
     "node_id":"HPZ557fCGz7kWzByK6SmXY",
     "type":"CODE",
     "hide_input_from_viewers":false,
     "hide_output_from_viewers":false,
     "report_properties":{
      "rowId":"3IEviqICTprP2BCNl1F7II"
     }
    }
   }
  },
  {
   "cell_type":"code",
   "source":[
    "sentiment_classifier(\"I don't love you\")"
   ],
   "execution_count":12,
   "outputs":[
    
   ],
   "metadata":{
    "datalore":{
     "node_id":"bitKPyYgLf2oGA1py3FfEr",
     "type":"CODE",
     "hide_input_from_viewers":false,
     "hide_output_from_viewers":false,
     "report_properties":{
      "rowId":"LE5Y1j8zKCltOnc4Xi8b3f"
     }
    }
   }
  },
  {
   "cell_type":"code",
   "source":[
    "input_word = \"value\""
   ],
   "execution_count":13,
   "outputs":[
    
   ],
   "metadata":{
    "datalore":{
     "node_id":"PSAEtJ3oY8cDbuPJuAsJXs",
     "type":"CONTROL",
     "hide_input_from_viewers":false,
     "hide_output_from_viewers":false,
     "report_properties":{
      "rowId":"46uv7CHGjhaKWyiaGZt6Ea"
     },
     "controls_state":[
      {
       "type":"INPUT",
       "label":"Enter Word",
       "variable":"input_word",
       "value":"value",
       "multiline":false
      }
     ]
    }
   }
  },
  {
   "cell_type":"code",
   "source":[
    "def get_sentiment(text):\n",
    "    # Get sentiment prediction scores\n",
    "    try:\n",
    "        sentiment = sentiment_classifier(text)[0]['label']\n",
    "    except:\n",
    "        sentiment = 'Not classified'\n",
    "        \n",
    "    return sentiment"
   ],
   "execution_count":14,
   "outputs":[
    
   ],
   "metadata":{
    "datalore":{
     "node_id":"4UzapzHeLyiDWsj7ylLODo",
     "type":"CODE",
     "hide_input_from_viewers":false,
     "hide_output_from_viewers":false,
     "report_properties":{
      "rowId":"hdAuxkL9L3LNWIlh16CE6w"
     }
    }
   }
  },
  {
   "cell_type":"code",
   "source":[
    "comments_posts_df_sub = comments_posts_df[comments_posts_df['post_title'].str.contains(input_word)]\n",
    "comments_posts_df_sub"
   ],
   "execution_count":15,
   "outputs":[
    
   ],
   "metadata":{
    "datalore":{
     "node_id":"GL2ifp4xjoCX8SBo7YwhYd",
     "type":"CODE",
     "hide_input_from_viewers":false,
     "hide_output_from_viewers":false,
     "report_properties":{
      "rowId":"V5ogJfsPygKRFWGTvBIPnw"
     }
    }
   }
  },
  {
   "cell_type":"code",
   "source":[
    "comments_posts_df_sub['sentiment'] = comments_posts_df_sub['comment'].astype(str).apply(lambda x: get_sentiment(x))\n",
    "comments_posts_df_sub"
   ],
   "execution_count":16,
   "outputs":[
    
   ],
   "metadata":{
    "datalore":{
     "node_id":"2tVye1EaDH1uunBRoHckCa",
     "type":"CODE",
     "hide_input_from_viewers":false,
     "hide_output_from_viewers":false,
     "report_properties":{
      "rowId":"gMkqM9lVKsOz4llSfGtOL3"
     }
    }
   }
  },
  {
   "cell_type":"code",
   "source":[
    "from lets_plot import * \n",
    "from lets_plot.mapping import * \n",
    "\n",
    "ggplot(comments_posts_df_sub) + geom_pie(aes(fill=as_discrete('sentiment', order_by='..count..')),\n",
    "                                         size=30, hole=0.2, stroke=1.0,\n",
    "                                         labels=layer_labels()\n",
    "                                         .line('@sentiment')\n",
    "                                         .line('(@{..prop..})')\n",
    "                                         .format('..prop..', '.0%')\n",
    "                                         ) \\\n",
    "                                + theme(line=element_blank(), axis_text=element_blank(),\n",
    "                                        axis_title=element_blank(), legend_position='none') \\\n",
    "                                + ggtitle('Sentiment of around the topic')"
   ],
   "execution_count":17,
   "outputs":[
    
   ],
   "metadata":{
    "datalore":{
     "node_id":"dKYMvUrVUqAMQzkeQeQ9fB",
     "type":"CODE",
     "hide_input_from_viewers":false,
     "hide_output_from_viewers":false,
     "report_properties":{
      "rowId":"LPL1AY3EqjIX1z2r0z4smE"
     }
    }
   }
  },
  {
   "cell_type":"markdown",
   "source":[
    "### Emotion recognition"
   ],
   "attachments":{
    
   },
   "metadata":{
    "datalore":{
     "node_id":"A85ViOZeqpTnAdO0zVjYNk",
     "type":"MD",
     "hide_input_from_viewers":false,
     "hide_output_from_viewers":false,
     "report_properties":{
      "rowId":"XpMOoQXqmBFWLPFJaX2qre"
     }
    }
   }
  },
  {
   "cell_type":"code",
   "source":[
    "emotion_classifier = pipeline('text-classification', model='bhadresh-savani\/distilbert-base-uncased-emotion', return_all_scores=True)"
   ],
   "execution_count":18,
   "outputs":[
    
   ],
   "metadata":{
    "datalore":{
     "node_id":"FmggioSfMdkJuhRMnBofPh",
     "type":"CODE",
     "hide_input_from_viewers":false,
     "hide_output_from_viewers":false,
     "report_properties":{
      "rowId":"wCtIz4f4KcO5eb2IeJAReq"
     }
    }
   }
  },
  {
   "cell_type":"code",
   "source":[
    "emotion_classifier('Icecream is delicious')"
   ],
   "execution_count":19,
   "outputs":[
    
   ],
   "metadata":{
    "datalore":{
     "node_id":"Jd3dA5TtltVV5v5x58jFlm",
     "type":"CODE",
     "hide_input_from_viewers":false,
     "hide_output_from_viewers":false,
     "report_properties":{
      "rowId":"7KEtpybAoT5lRMq8HBuatI"
     }
    }
   }
  },
  {
   "cell_type":"code",
   "source":[
    "def get_emotion(text):\n",
    "    # Get emotion prediction scores\n",
    "    pred_scores = emotion_classifier(text)\n",
    "\n",
    "    # Get emotion with highest prediction score\n",
    "    emotion = max(pred_scores[0], key=lambda  x: x['score'])['label']\n",
    "    return emotion"
   ],
   "execution_count":20,
   "outputs":[
    
   ],
   "metadata":{
    "datalore":{
     "node_id":"8dKzovxhZ4I2P9tHWXzFvX",
     "type":"CODE",
     "hide_input_from_viewers":false,
     "hide_output_from_viewers":false,
     "report_properties":{
      "rowId":"ndGltSuIOq5JAOB40iPoYm"
     }
    }
   }
  },
  {
   "cell_type":"code",
   "source":[
    "comments_posts_df_sub['emotion'] = comments_posts_df_sub['comment'].astype(str).apply(lambda x: get_emotion(x))\n",
    "\n",
    "\n",
    "comments_posts_df_sub"
   ],
   "execution_count":21,
   "outputs":[
    
   ],
   "metadata":{
    "datalore":{
     "node_id":"wg7fgJCDNtZMCx5Qefims9",
     "type":"CODE",
     "hide_input_from_viewers":false,
     "hide_output_from_viewers":false,
     "report_properties":{
      "rowId":"0usn8GmCyH79eY7UBQRn9B"
     }
    }
   }
  },
  {
   "cell_type":"code",
   "source":[
    "from llama_index import SimpleDirectoryReader, GPTSimpleVectorIndex, LLMPredictor, PromptHelper\n",
    "from langchain import OpenAI \n",
    "import os\n",
    "from IPython.display import Markdown, display"
   ],
   "execution_count":3,
   "outputs":[
    
   ],
   "metadata":{
    "datalore":{
     "node_id":"S99Pmd5IGkVdJisrtB5Sxm",
     "type":"CODE",
     "hide_input_from_viewers":false,
     "hide_output_from_viewers":false,
     "report_properties":{
      "rowId":"jZgK7BOJecImzetJzyADby"
     }
    }
   }
  },
  {
   "cell_type":"code",
   "source":[
    "# Combine all posts and comments and save to a text file\n",
    "comments_posts_df_tmp = comments_posts_df[['post_title', 'selftext', 'comment']].astype(str)\n",
    "agg_comments = comments_posts_df_tmp.groupby(['post_title', 'selftext'])['comment'].apply('. '.join).reset_index()\n",
    "agg_comments"
   ],
   "execution_count":null,
   "outputs":[
    
   ],
   "metadata":{
    "datalore":{
     "node_id":"2HA6FxFzXtAmpCThE10iSL",
     "type":"CODE",
     "hide_input_from_viewers":false,
     "hide_output_from_viewers":false,
     "report_properties":{
      "rowId":"5YK8o4M62yj9X4gkxHFr7R"
     }
    }
   }
  },
  {
   "cell_type":"code",
   "source":[
    "agg_comments['combined_text'] = agg_comments.astype(str).agg('. '.join, axis=1)\n",
    "all_text = ' '.join(agg_comments['combined_text'])"
   ],
   "execution_count":null,
   "outputs":[
    
   ],
   "metadata":{
    "datalore":{
     "node_id":"qtzBOUB3NzHMEOuQobcz4h",
     "type":"CODE",
     "hide_input_from_viewers":true,
     "hide_output_from_viewers":true
    }
   }
  },
  {
   "cell_type":"code",
   "source":[
    "def construct_index(directory_path):\n",
    "    # set maximum input size\n",
    "    max_input_size = 4096\n",
    "    # set number of output tokens\n",
    "    num_outputs = 256\n",
    "    # set maximum chunk overlap\n",
    "    max_chunk_overlap = 20\n",
    "    # set chunk size limit\n",
    "    chunk_size_limit = 600\n",
    "\n",
    "    # define LLM (ChatGPT gpt-3.5-turbo)\n",
    "    llm_predictor = LLMPredictor(llm=OpenAI(temperature=0, model_name=\"gpt-3.5-turbo\", max_tokens=num_outputs))\n",
    "    prompt_helper = PromptHelper(max_input_size, num_outputs, max_chunk_overlap, chunk_size_limit=chunk_size_limit)\n",
    " \n",
    "    documents = SimpleDirectoryReader(directory_path).load_data()\n",
    "    \n",
    "    index = GPTSimpleVectorIndex(\n",
    "        documents, llm_predictor=llm_predictor, prompt_helper=prompt_helper\n",
    "    )\n",
    "\n",
    "    index.save_to_disk('index.json')\n",
    "\n",
    "    return index\n",
    "\n",
    "\n",
    "def ask_me_anything(question):\n",
    "\n",
    "    index = GPTSimpleVectorIndex.load_from_disk('index.json')\n",
    "    response = index.query(question, response_mode=\"compact\")\n",
    "\n",
    "    display(Markdown(f\"You asked: <b>{question}<\/b>\"))\n",
    "    display(Markdown(f\"Bot says: <b>{response.response}<\/b>\"))"
   ],
   "execution_count":null,
   "outputs":[
    
   ],
   "metadata":{
    "datalore":{
     "node_id":"wKZSuVheiDGhkVc0UEkkT9",
     "type":"CODE",
     "hide_input_from_viewers":true,
     "hide_output_from_viewers":true
    }
   }
  },
  {
   "cell_type":"code",
   "source":[
    "openapi_key = \"value\""
   ],
   "execution_count":null,
   "outputs":[
    
   ],
   "metadata":{
    "datalore":{
     "node_id":"QjZWTs5jigk4FJEVT9mqHP",
     "type":"CONTROL",
     "hide_input_from_viewers":true,
     "hide_output_from_viewers":true,
     "controls_state":[
      {
       "type":"INPUT",
       "label":"openapi_key",
       "variable":"openapi_key",
       "value":"value",
       "multiline":false
      }
     ]
    }
   }
  },
  {
   "cell_type":"code",
   "source":[
    "# Set OpenAI key\n",
    "os.environ[\"OPENAI_API_KEY\"] = openai_key"
   ],
   "execution_count":null,
   "outputs":[
    
   ],
   "metadata":{
    "datalore":{
     "node_id":"hrGZbvG9o0pS6u75X2lA1l",
     "type":"CODE",
     "hide_input_from_viewers":true,
     "hide_output_from_viewers":true
    }
   }
  },
  {
   "cell_type":"code",
   "source":[
    "# Construct our index (ONLY NEED TO RUN ONCE! BE CAREFUL THAT THIS COSTS MONEY)\n",
    "# This will take every file in folder, split it into chunks, and embed it with OpenAI's embeddings API. \n",
    "construct_index('\/data\/notebook_files\/textdata')"
   ],
   "execution_count":null,
   "outputs":[
    
   ],
   "metadata":{
    "datalore":{
     "node_id":"9fTbBw53ogolwYuAPNhchS",
     "type":"CODE",
     "hide_input_from_viewers":true,
     "hide_output_from_viewers":true
    }
   }
  },
  {
   "cell_type":"code",
   "source":[
    "question = \"value\""
   ],
   "execution_count":null,
   "outputs":[
    
   ],
   "metadata":{
    "datalore":{
     "node_id":"IaRvvhv90aNOrWztH67HlO",
     "type":"CONTROL",
     "hide_input_from_viewers":true,
     "hide_output_from_viewers":true,
     "controls_state":[
      {
       "type":"INPUT",
       "label":"Ask me any thing",
       "variable":"question",
       "value":"value",
       "multiline":false
      }
     ]
    }
   }
  },
  {
   "cell_type":"code",
   "source":[
    "ask_me_anything(question)"
   ],
   "execution_count":null,
   "outputs":[
    
   ],
   "metadata":{
    "datalore":{
     "node_id":"BwKLUQlz8IrD18JMPXSQC6",
     "type":"CODE",
     "hide_input_from_viewers":true,
     "hide_output_from_viewers":true
    }
   }
  }
 ],
 "metadata":{
  "kernelspec":{
   "display_name":"Python",
   "language":"python",
   "name":"python"
  },
  "datalore":{
   "computation_mode":"REACTIVE",
   "package_manager":"pip",
   "base_environment":"default",
   "packages":[
    {
     "name":"wordcloud",
     "version":"1.8.2.2",
     "source":"PIP"
    },
    {
     "name":"emoji",
     "version":"2.2.0",
     "source":"PIP"
    },
    {
     "name":"llama-index",
     "version":"0.4.31",
     "source":"PIP"
    }
   ],
   "report_row_ids":[
    "kmAIRuMkEdkAn2OiHI0msD",
    "4wOMUy8cBKbqBfjiZrPkPV",
    "IM8K4Vw3JNEmLMcc92rkJk",
    "mw7LViqtxy5oyXFw0y5XBK",
    "jXOfimjxRlBZbdl1GMjgsj",
    "e0eUwHhyjfBu6ZY6a6NGPW",
    "gw8m6BHrir0e3awakY8rZN",
    "xOqYqFVSSRJ9zGpahhK8EG",
    "pBRm4NP6Xu4a7uo3EEG7Q2",
    "ZMvBG39inRpcmTjmyWhITK",
    "blSXTkCTTVU1DCzCH9TFwx",
    "PCMIKJrtOSOju5nEadXSbI",
    "O64VXUKM64gwiZZDlj5cwM",
    "JaTW6P07RLbxgtf2mwfwe4",
    "3IEviqICTprP2BCNl1F7II",
    "LE5Y1j8zKCltOnc4Xi8b3f",
    "46uv7CHGjhaKWyiaGZt6Ea",
    "hdAuxkL9L3LNWIlh16CE6w",
    "V5ogJfsPygKRFWGTvBIPnw",
    "gMkqM9lVKsOz4llSfGtOL3",
    "LPL1AY3EqjIX1z2r0z4smE",
    "XpMOoQXqmBFWLPFJaX2qre",
    "wCtIz4f4KcO5eb2IeJAReq",
    "7KEtpybAoT5lRMq8HBuatI",
    "ndGltSuIOq5JAOB40iPoYm",
    "0usn8GmCyH79eY7UBQRn9B",
    "jZgK7BOJecImzetJzyADby",
    "5YK8o4M62yj9X4gkxHFr7R"
   ],
   "version":2
  }
 },
 "nbformat":4,
 "nbformat_minor":4
}